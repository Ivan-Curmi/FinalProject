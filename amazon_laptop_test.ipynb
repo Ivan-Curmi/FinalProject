{
 "cells": [
  {
   "cell_type": "code",
   "execution_count": 6,
   "id": "9ecd6db6",
   "metadata": {},
   "outputs": [],
   "source": [
    "import pandas as pd\n",
    "from bs4 import BeautifulSoup\n",
    "import openpyxl"
   ]
  },
  {
   "cell_type": "code",
   "execution_count": 2,
   "id": "425ac19a",
   "metadata": {},
   "outputs": [],
   "source": [
    "# Read the HTML file\n",
    "with open('Amazon1.html', 'r', encoding='utf-8') as file:\n",
    "    html_content = file.read()"
   ]
  },
  {
   "cell_type": "code",
   "execution_count": 3,
   "id": "ac3c0d44",
   "metadata": {},
   "outputs": [],
   "source": [
    "\n",
    "# Parse the HTML content with BeautifulSoup\n",
    "soup = BeautifulSoup(html_content, 'html.parser')\n",
    "\n",
    "# Create empty lists to store product information\n",
    "product_names = []\n",
    "product_prices = []\n",
    "\n",
    "# Find all divs with the specified class\n",
    "product_divs = soup.find_all('div', class_='s-card-container s-overflow-hidden aok-relative puis-include-content-margin puis puis-v20azwp0smsgc01ytmkntf1rk7n s-latency-cf-section s-card-border')\n",
    "\n",
    "# Loop through each div and extract information\n",
    "for product_div in product_divs:\n",
    "    # Extract product name\n",
    "    product_name_element = product_div.find('span', class_='a-size-medium a-color-base a-text-normal')\n",
    "    product_name = product_name_element.text.strip() if product_name_element else \"N/A\"\n",
    "\n",
    "    # Extract product price\n",
    "    product_price_element = product_div.find('span', class_='a-price-whole')\n",
    "    product_price = product_price_element.text.strip() if product_price_element else \"N/A\"\n",
    "\n",
    "    # Append extracted information to lists\n",
    "    product_names.append(product_name)\n",
    "    product_prices.append(product_price)\n",
    "\n"
   ]
  },
  {
   "cell_type": "code",
   "execution_count": 7,
   "id": "f4290d05",
   "metadata": {},
   "outputs": [],
   "source": [
    "# Create a DataFrame from the extracted information\n",
    "data = {\n",
    "    'Product_Name': product_names,\n",
    "    'Product_Price': product_prices\n",
    "}\n",
    "df = pd.DataFrame(data)\n",
    "\n",
    "# Write the DataFrame to an Excel file\n",
    "df.to_excel('Amazon_Products.xlsx', index=False)"
   ]
  },
  {
   "cell_type": "code",
   "execution_count": 5,
   "id": "84b64611",
   "metadata": {},
   "outputs": [
    {
     "name": "stdout",
     "output_type": "stream",
     "text": [
      "Collecting openpyxlNote: you may need to restart the kernel to use updated packages.\n",
      "  Using cached openpyxl-3.1.2-py2.py3-none-any.whl (249 kB)\n",
      "Collecting et-xmlfile\n",
      "  Using cached et_xmlfile-1.1.0-py3-none-any.whl (4.7 kB)\n",
      "Installing collected packages: et-xmlfile, openpyxl\n",
      "Successfully installed et-xmlfile-1.1.0 openpyxl-3.1.2\n",
      "\n"
     ]
    }
   ],
   "source": [
    "pip install openpyxl"
   ]
  },
  {
   "cell_type": "code",
   "execution_count": null,
   "id": "538554d0",
   "metadata": {},
   "outputs": [],
   "source": []
  }
 ],
 "metadata": {
  "kernelspec": {
   "display_name": "Python 3 (ipykernel)",
   "language": "python",
   "name": "python3"
  },
  "language_info": {
   "codemirror_mode": {
    "name": "ipython",
    "version": 3
   },
   "file_extension": ".py",
   "mimetype": "text/x-python",
   "name": "python",
   "nbconvert_exporter": "python",
   "pygments_lexer": "ipython3",
   "version": "3.7.11"
  }
 },
 "nbformat": 4,
 "nbformat_minor": 5
}
